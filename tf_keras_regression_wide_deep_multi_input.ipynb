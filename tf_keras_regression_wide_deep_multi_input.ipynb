{
  "nbformat": 4,
  "nbformat_minor": 0,
  "metadata": {
    "kernelspec": {
      "display_name": "Python 3",
      "language": "python",
      "name": "python3"
    },
    "language_info": {
      "codemirror_mode": {
        "name": "ipython",
        "version": 3
      },
      "file_extension": ".py",
      "mimetype": "text/x-python",
      "name": "python",
      "nbconvert_exporter": "python",
      "pygments_lexer": "ipython3",
      "version": "3.6.9"
    },
    "colab": {
      "name": "Copy of tf_keras_regression-wide_deep-multi-input.ipynb",
      "provenance": [],
      "include_colab_link": true
    }
  },
  "cells": [
    {
      "cell_type": "markdown",
      "metadata": {
        "id": "view-in-github",
        "colab_type": "text"
      },
      "source": [
        "<a href=\"https://colab.research.google.com/github/dongxiaohuang/Tensorflow2.0_notes/blob/main/tf_keras_regression_wide_deep_multi_input.ipynb\" target=\"_parent\"><img src=\"https://colab.research.google.com/assets/colab-badge.svg\" alt=\"Open In Colab\"/></a>"
      ]
    },
    {
      "cell_type": "code",
      "metadata": {
        "colab": {
          "base_uri": "https://localhost:8080/"
        },
        "id": "ggJkY6KDOOg1",
        "outputId": "2e0fd22f-dd63-4764-cadf-17fdeb73d518"
      },
      "source": [
        "!pip config set global.index-url https://mirrors.aliyun.com/pypi/simple/\n",
        "!python -m pip install -U pip\n",
        "!pip -V\n",
        "!pip install sklearn pandas"
      ],
      "execution_count": 2,
      "outputs": [
        {
          "output_type": "stream",
          "text": [
            "Writing to /root/.config/pip/pip.conf\n",
            "Looking in indexes: https://mirrors.aliyun.com/pypi/simple/\n",
            "Collecting pip\n",
            "\u001b[?25l  Downloading https://mirrors.aliyun.com/pypi/packages/fe/ef/60d7ba03b5c442309ef42e7d69959f73aacccd0d86008362a681c4698e83/pip-21.0.1-py3-none-any.whl (1.5MB)\n",
            "\u001b[K     |████████████████████████████████| 1.5MB 6.5MB/s \n",
            "\u001b[?25hInstalling collected packages: pip\n",
            "  Found existing installation: pip 19.3.1\n",
            "    Uninstalling pip-19.3.1:\n",
            "      Successfully uninstalled pip-19.3.1\n",
            "Successfully installed pip-21.0.1\n",
            "pip 21.0.1 from /usr/local/lib/python3.6/dist-packages/pip (python 3.6)\n",
            "Looking in indexes: https://mirrors.aliyun.com/pypi/simple/\n",
            "Requirement already satisfied: sklearn in /usr/local/lib/python3.6/dist-packages (0.0)\n",
            "Requirement already satisfied: pandas in /usr/local/lib/python3.6/dist-packages (1.1.5)\n",
            "Requirement already satisfied: python-dateutil>=2.7.3 in /usr/local/lib/python3.6/dist-packages (from pandas) (2.8.1)\n",
            "Requirement already satisfied: pytz>=2017.2 in /usr/local/lib/python3.6/dist-packages (from pandas) (2018.9)\n",
            "Requirement already satisfied: numpy>=1.15.4 in /usr/local/lib/python3.6/dist-packages (from pandas) (1.19.5)\n",
            "Requirement already satisfied: six>=1.5 in /usr/local/lib/python3.6/dist-packages (from python-dateutil>=2.7.3->pandas) (1.15.0)\n",
            "Requirement already satisfied: scikit-learn in /usr/local/lib/python3.6/dist-packages (from sklearn) (0.22.2.post1)\n",
            "Requirement already satisfied: joblib>=0.11 in /usr/local/lib/python3.6/dist-packages (from scikit-learn->sklearn) (1.0.0)\n",
            "Requirement already satisfied: scipy>=0.17.0 in /usr/local/lib/python3.6/dist-packages (from scikit-learn->sklearn) (1.4.1)\n"
          ],
          "name": "stdout"
        }
      ]
    },
    {
      "cell_type": "code",
      "metadata": {
        "id": "F7dr2eq0OOg3"
      },
      "source": [
        "import matplotlib as mpl\n",
        "import matplotlib.pyplot as plt\n",
        "%matplotlib inline\n",
        "import numpy as np\n",
        "import sklearn\n",
        "import pandas as pd\n",
        "import os\n",
        "import sys\n",
        "import time\n",
        "import tensorflow as tf\n",
        "\n",
        "import tensorflow as tf"
      ],
      "execution_count": 3,
      "outputs": []
    },
    {
      "cell_type": "code",
      "metadata": {
        "colab": {
          "base_uri": "https://localhost:8080/"
        },
        "id": "HcWGPkzuOOg4",
        "outputId": "433f688f-f41c-436b-9a36-f6e6cbba34ce"
      },
      "source": [
        "print(tf.__version__)\n",
        "print(sys.version_info)\n",
        "for module in mpl, np, pd, sklearn, tf, tf.keras:\n",
        "    print(module.__name__, module.__version__)"
      ],
      "execution_count": 4,
      "outputs": [
        {
          "output_type": "stream",
          "text": [
            "2.4.1\n",
            "sys.version_info(major=3, minor=6, micro=9, releaselevel='final', serial=0)\n",
            "matplotlib 3.2.2\n",
            "numpy 1.19.5\n",
            "pandas 1.1.5\n",
            "sklearn 0.22.2.post1\n",
            "tensorflow 2.4.1\n",
            "tensorflow.keras 2.4.0\n"
          ],
          "name": "stdout"
        }
      ]
    },
    {
      "cell_type": "markdown",
      "metadata": {
        "id": "yRslTIR9PZG4"
      },
      "source": [
        "# Breast cancer data ETL\n",
        "**Data Set Characteristics:**\n",
        "\n",
        "    :Number of Instances: 569\n",
        "\n",
        "    :Number of Attributes: 30 numeric, predictive attributes and the class\n",
        "\n",
        "    :Attribute Information:\n",
        "        - radius (mean of distances from center to points on the perimeter)\n",
        "        - texture (standard deviation of gray-scale values)\n",
        "        - perimeter\n",
        "        - area\n",
        "        - smoothness (local variation in radius lengths)\n",
        "        - compactness (perimeter^2 / area - 1.0)\n",
        "        - concavity (severity of concave portions of the contour)\n",
        "        - concave points (number of concave portions of the contour)\n",
        "        - symmetry \n",
        "        - fractal dimension (\"coastline approximation\" - 1)\n",
        "\n",
        "        The mean, standard error, and \"worst\" or largest (mean of the three\n",
        "        largest values) of these features were computed for each image,\n",
        "        resulting in 30 features.  For instance, field 3 is Mean Radius, field\n",
        "        13 is Radius SE, field 23 is Worst Radius.\n",
        "\n",
        "        - class:\n",
        "                - WDBC-Malignant\n",
        "                - WDBC-Benign"
      ]
    },
    {
      "cell_type": "code",
      "metadata": {
        "colab": {
          "base_uri": "https://localhost:8080/"
        },
        "id": "mEV1ywR_OOg4",
        "outputId": "dd0a6263-a6a6-487a-eb0d-cbff044582e5"
      },
      "source": [
        "from sklearn.datasets import load_breast_cancer\n",
        "\n",
        "demo_data = load_breast_cancer()\n",
        "print(demo_data.DESCR)\n",
        "print(demo_data.data.shape)\n",
        "print(demo_data.target.shape)\n",
        "demo_data.data[0]"
      ],
      "execution_count": 5,
      "outputs": [
        {
          "output_type": "stream",
          "text": [
            ".. _breast_cancer_dataset:\n",
            "\n",
            "Breast cancer wisconsin (diagnostic) dataset\n",
            "--------------------------------------------\n",
            "\n",
            "**Data Set Characteristics:**\n",
            "\n",
            "    :Number of Instances: 569\n",
            "\n",
            "    :Number of Attributes: 30 numeric, predictive attributes and the class\n",
            "\n",
            "    :Attribute Information:\n",
            "        - radius (mean of distances from center to points on the perimeter)\n",
            "        - texture (standard deviation of gray-scale values)\n",
            "        - perimeter\n",
            "        - area\n",
            "        - smoothness (local variation in radius lengths)\n",
            "        - compactness (perimeter^2 / area - 1.0)\n",
            "        - concavity (severity of concave portions of the contour)\n",
            "        - concave points (number of concave portions of the contour)\n",
            "        - symmetry \n",
            "        - fractal dimension (\"coastline approximation\" - 1)\n",
            "\n",
            "        The mean, standard error, and \"worst\" or largest (mean of the three\n",
            "        largest values) of these features were computed for each image,\n",
            "        resulting in 30 features.  For instance, field 3 is Mean Radius, field\n",
            "        13 is Radius SE, field 23 is Worst Radius.\n",
            "\n",
            "        - class:\n",
            "                - WDBC-Malignant\n",
            "                - WDBC-Benign\n",
            "\n",
            "    :Summary Statistics:\n",
            "\n",
            "    ===================================== ====== ======\n",
            "                                           Min    Max\n",
            "    ===================================== ====== ======\n",
            "    radius (mean):                        6.981  28.11\n",
            "    texture (mean):                       9.71   39.28\n",
            "    perimeter (mean):                     43.79  188.5\n",
            "    area (mean):                          143.5  2501.0\n",
            "    smoothness (mean):                    0.053  0.163\n",
            "    compactness (mean):                   0.019  0.345\n",
            "    concavity (mean):                     0.0    0.427\n",
            "    concave points (mean):                0.0    0.201\n",
            "    symmetry (mean):                      0.106  0.304\n",
            "    fractal dimension (mean):             0.05   0.097\n",
            "    radius (standard error):              0.112  2.873\n",
            "    texture (standard error):             0.36   4.885\n",
            "    perimeter (standard error):           0.757  21.98\n",
            "    area (standard error):                6.802  542.2\n",
            "    smoothness (standard error):          0.002  0.031\n",
            "    compactness (standard error):         0.002  0.135\n",
            "    concavity (standard error):           0.0    0.396\n",
            "    concave points (standard error):      0.0    0.053\n",
            "    symmetry (standard error):            0.008  0.079\n",
            "    fractal dimension (standard error):   0.001  0.03\n",
            "    radius (worst):                       7.93   36.04\n",
            "    texture (worst):                      12.02  49.54\n",
            "    perimeter (worst):                    50.41  251.2\n",
            "    area (worst):                         185.2  4254.0\n",
            "    smoothness (worst):                   0.071  0.223\n",
            "    compactness (worst):                  0.027  1.058\n",
            "    concavity (worst):                    0.0    1.252\n",
            "    concave points (worst):               0.0    0.291\n",
            "    symmetry (worst):                     0.156  0.664\n",
            "    fractal dimension (worst):            0.055  0.208\n",
            "    ===================================== ====== ======\n",
            "\n",
            "    :Missing Attribute Values: None\n",
            "\n",
            "    :Class Distribution: 212 - Malignant, 357 - Benign\n",
            "\n",
            "    :Creator:  Dr. William H. Wolberg, W. Nick Street, Olvi L. Mangasarian\n",
            "\n",
            "    :Donor: Nick Street\n",
            "\n",
            "    :Date: November, 1995\n",
            "\n",
            "This is a copy of UCI ML Breast Cancer Wisconsin (Diagnostic) datasets.\n",
            "https://goo.gl/U2Uwz2\n",
            "\n",
            "Features are computed from a digitized image of a fine needle\n",
            "aspirate (FNA) of a breast mass.  They describe\n",
            "characteristics of the cell nuclei present in the image.\n",
            "\n",
            "Separating plane described above was obtained using\n",
            "Multisurface Method-Tree (MSM-T) [K. P. Bennett, \"Decision Tree\n",
            "Construction Via Linear Programming.\" Proceedings of the 4th\n",
            "Midwest Artificial Intelligence and Cognitive Science Society,\n",
            "pp. 97-101, 1992], a classification method which uses linear\n",
            "programming to construct a decision tree.  Relevant features\n",
            "were selected using an exhaustive search in the space of 1-4\n",
            "features and 1-3 separating planes.\n",
            "\n",
            "The actual linear program used to obtain the separating plane\n",
            "in the 3-dimensional space is that described in:\n",
            "[K. P. Bennett and O. L. Mangasarian: \"Robust Linear\n",
            "Programming Discrimination of Two Linearly Inseparable Sets\",\n",
            "Optimization Methods and Software 1, 1992, 23-34].\n",
            "\n",
            "This database is also available through the UW CS ftp server:\n",
            "\n",
            "ftp ftp.cs.wisc.edu\n",
            "cd math-prog/cpo-dataset/machine-learn/WDBC/\n",
            "\n",
            ".. topic:: References\n",
            "\n",
            "   - W.N. Street, W.H. Wolberg and O.L. Mangasarian. Nuclear feature extraction \n",
            "     for breast tumor diagnosis. IS&T/SPIE 1993 International Symposium on \n",
            "     Electronic Imaging: Science and Technology, volume 1905, pages 861-870,\n",
            "     San Jose, CA, 1993.\n",
            "   - O.L. Mangasarian, W.N. Street and W.H. Wolberg. Breast cancer diagnosis and \n",
            "     prognosis via linear programming. Operations Research, 43(4), pages 570-577, \n",
            "     July-August 1995.\n",
            "   - W.H. Wolberg, W.N. Street, and O.L. Mangasarian. Machine learning techniques\n",
            "     to diagnose breast cancer from fine-needle aspirates. Cancer Letters 77 (1994) \n",
            "     163-171.\n",
            "(569, 30)\n",
            "(569,)\n"
          ],
          "name": "stdout"
        },
        {
          "output_type": "execute_result",
          "data": {
            "text/plain": [
              "array([1.799e+01, 1.038e+01, 1.228e+02, 1.001e+03, 1.184e-01, 2.776e-01,\n",
              "       3.001e-01, 1.471e-01, 2.419e-01, 7.871e-02, 1.095e+00, 9.053e-01,\n",
              "       8.589e+00, 1.534e+02, 6.399e-03, 4.904e-02, 5.373e-02, 1.587e-02,\n",
              "       3.003e-02, 6.193e-03, 2.538e+01, 1.733e+01, 1.846e+02, 2.019e+03,\n",
              "       1.622e-01, 6.656e-01, 7.119e-01, 2.654e-01, 4.601e-01, 1.189e-01])"
            ]
          },
          "metadata": {
            "tags": []
          },
          "execution_count": 5
        }
      ]
    },
    {
      "cell_type": "code",
      "metadata": {
        "colab": {
          "base_uri": "https://localhost:8080/"
        },
        "id": "HbFcVQKSOOg5",
        "outputId": "57ebba9a-459a-4ce6-9ae8-13ce6fb85430"
      },
      "source": [
        "from sklearn.model_selection import train_test_split\n",
        "\n",
        "x_train_all, x_test, y_train_all, y_test = train_test_split(\n",
        "    demo_data.data, demo_data.target, random_state = 7)\n",
        "x_train, x_valid, y_train, y_valid = train_test_split(\n",
        "    x_train_all, y_train_all, random_state = 11)\n",
        "print(x_train.shape, y_train.shape)\n",
        "print(x_valid.shape, y_valid.shape)\n",
        "print(x_test.shape, y_test.shape)"
      ],
      "execution_count": 6,
      "outputs": [
        {
          "output_type": "stream",
          "text": [
            "(319, 30) (319,)\n",
            "(107, 30) (107,)\n",
            "(143, 30) (143,)\n"
          ],
          "name": "stdout"
        }
      ]
    },
    {
      "cell_type": "code",
      "metadata": {
        "id": "O69VyzDTOOg5"
      },
      "source": [
        "from sklearn.preprocessing import StandardScaler\n",
        "\n",
        "scaler = StandardScaler()\n",
        "x_train_scaled = scaler.fit_transform(x_train)\n",
        "x_valid_scaled = scaler.transform(x_valid)\n",
        "x_test_scaled = scaler.transform(x_test)"
      ],
      "execution_count": 7,
      "outputs": []
    },
    {
      "cell_type": "markdown",
      "metadata": {
        "id": "YgZeLQnHRQYo"
      },
      "source": [
        "# Model Creation (multiple inputs)\n",
        "\n",
        "## Model Structure\n",
        "![IMAGE](https://1.bp.blogspot.com/-Dw1mB9am1l8/V3MgtOzp3uI/AAAAAAAABGs/mP-3nZQCjWwdk6qCa5WraSpK8A7rSPj3ACLcB/s1600/image04.png)"
      ]
    },
    {
      "cell_type": "markdown",
      "metadata": {
        "id": "7WXsTXNaS7rB"
      },
      "source": [
        "## Function API Implementation"
      ]
    },
    {
      "cell_type": "code",
      "metadata": {
        "id": "OuGMqEILOOg5"
      },
      "source": [
        "# 多输入\n",
        "tf.random.set_seed(2)\n",
        "\n",
        "input_wide = tf.keras.layers.Input(shape=[15], name='input_wide')\n",
        "input_deep = tf.keras.layers.Input(shape=[15], name='input_deep')\n",
        "hidden1 = tf.keras.layers.Dense(30, activation='relu')(input_deep)\n",
        "hidden2 = tf.keras.layers.Dense(30, activation='relu')(hidden1)\n",
        "concat = tf.keras.layers.concatenate([input_wide, hidden2])\n",
        "output = tf.keras.layers.Dense(1, activation='sigmoid')(concat)\n",
        "\n",
        "\n",
        "model = tf.keras.models.Model(inputs = [input_wide, input_deep],\n",
        "                         outputs = [output])\n"
      ],
      "execution_count": 8,
      "outputs": []
    },
    {
      "cell_type": "code",
      "metadata": {
        "colab": {
          "base_uri": "https://localhost:8080/"
        },
        "id": "C7MPfXTYS545",
        "outputId": "a0f17874-587e-4ab2-b824-8b829ea7deed"
      },
      "source": [
        "# test \n",
        "inputs = [np.array([list(range(15))]), np.array([list(range(15))])]\n",
        "\n",
        "model(inputs)"
      ],
      "execution_count": 9,
      "outputs": [
        {
          "output_type": "execute_result",
          "data": {
            "text/plain": [
              "<tf.Tensor: shape=(1, 1), dtype=float32, numpy=array([[2.8273863e-07]], dtype=float32)>"
            ]
          },
          "metadata": {
            "tags": []
          },
          "execution_count": 9
        }
      ]
    },
    {
      "cell_type": "code",
      "metadata": {
        "colab": {
          "base_uri": "https://localhost:8080/",
          "height": 466
        },
        "id": "F4SqF1JGds2R",
        "outputId": "7e1e4198-5551-4801-ba19-33dbcbcb3edd"
      },
      "source": [
        "# plot model\n",
        "tf.keras.utils.plot_model(\n",
        "    model,\n",
        "    to_file=\"model.png\",\n",
        "    show_shapes=False,\n",
        "    show_dtype=False,\n",
        "    show_layer_names=True,\n",
        "    rankdir=\"TB\",\n",
        "    expand_nested=False,\n",
        "    dpi=96,\n",
        ")"
      ],
      "execution_count": 10,
      "outputs": [
        {
          "output_type": "execute_result",
          "data": {
            "image/png": "[encoded data removed]",
            "text/plain": [
              "<IPython.core.display.Image object>"
            ]
          },
          "metadata": {
            "tags": []
          },
          "execution_count": 10
        }
      ]
    },
    {
      "cell_type": "markdown",
      "metadata": {
        "id": "CKdYAyqQS_f0"
      },
      "source": [
        "## Model Subclassing Implementation"
      ]
    },
    {
      "cell_type": "code",
      "metadata": {
        "id": "yNquA-3MTK4z"
      },
      "source": [
        "tf.random.set_seed(2)\n",
        "class WideDeepModel(tf.keras.models.Model):\n",
        "  def __init__(self, **kwargs):\n",
        "    super().__init__(**kwargs)\n",
        "    self.hidden1 = tf.keras.layers.Dense(30, activation='relu')\n",
        "    self.hidden2 = tf.keras.layers.Dense(30, activation='relu')\n",
        "    self.concat = tf.keras.layers.concatenate\n",
        "    self.dense = tf.keras.layers.Dense(1, activation='sigmoid')\n",
        "  \n",
        "  def call(self, inputs):\n",
        "    input_wide, input_deep = inputs\n",
        "    output_deep = self.hidden1(input_deep)\n",
        "    output_deep = self.hidden2(output_deep)\n",
        "    concat_input = self.concat([input_wide, output_deep])\n",
        "    output = self.dense(concat_input)\n",
        "    return output\n",
        "\n",
        "  def build_graph(self, shapes):\n",
        "    shape1, shape2 = shapes\n",
        "    input_wide = tf.keras.layers.Input(shape=shape1)\n",
        "    input_deep = tf.keras.layers.Input(shape=shape2)\n",
        "    return tf.keras.models.Model(inputs=[input_wide, input_deep], outputs=[self.call([input_wide, input_deep])])"
      ],
      "execution_count": 43,
      "outputs": []
    },
    {
      "cell_type": "code",
      "metadata": {
        "colab": {
          "base_uri": "https://localhost:8080/"
        },
        "id": "KiqLMYMzWl44",
        "outputId": "caa40583-27d0-41c9-c797-da66be5ea73e"
      },
      "source": [
        "# test \n",
        "# load model\n",
        "model = WideDeepModel()\n",
        "\n",
        "# load model by Squential\n",
        "# model = tf.keras.models.Sequential([WideDeepModel(), ])\n",
        "# # input_shape = [(None, 15), (None, 15)]\n",
        "# # model.build(input_shape=(None, 15))\n",
        "# # model.summary()\n",
        "\n",
        "inputs = [np.array([list(range(15))]).astype('float32'), np.array([list(range(15))]).astype('float32')]\n",
        "\n",
        "model(inputs)\n"
      ],
      "execution_count": 44,
      "outputs": [
        {
          "output_type": "execute_result",
          "data": {
            "text/plain": [
              "<tf.Tensor: shape=(1, 1), dtype=float32, numpy=array([[2.8273863e-07]], dtype=float32)>"
            ]
          },
          "metadata": {
            "tags": []
          },
          "execution_count": 44
        }
      ]
    },
    {
      "cell_type": "code",
      "metadata": {
        "colab": {
          "base_uri": "https://localhost:8080/"
        },
        "id": "PMeqqPjrvd51",
        "outputId": "b741c561-941b-4ff3-8941-48e38492500a"
      },
      "source": [
        "model.summary()"
      ],
      "execution_count": 36,
      "outputs": [
        {
          "output_type": "stream",
          "text": [
            "Model: \"wide_deep_model_5\"\n",
            "_________________________________________________________________\n",
            "Layer (type)                 Output Shape              Param #   \n",
            "=================================================================\n",
            "dense_18 (Dense)             multiple                  480       \n",
            "_________________________________________________________________\n",
            "dense_19 (Dense)             multiple                  930       \n",
            "_________________________________________________________________\n",
            "dense_20 (Dense)             multiple                  46        \n",
            "=================================================================\n",
            "Total params: 1,456\n",
            "Trainable params: 1,456\n",
            "Non-trainable params: 0\n",
            "_________________________________________________________________\n"
          ],
          "name": "stdout"
        }
      ]
    },
    {
      "cell_type": "markdown",
      "metadata": {
        "id": "NbtUWCPYvdip"
      },
      "source": [
        ""
      ]
    },
    {
      "cell_type": "code",
      "metadata": {
        "colab": {
          "base_uri": "https://localhost:8080/",
          "height": 77
        },
        "id": "ITfS4q4ad4kV",
        "outputId": "d9c04ae7-6d61-4747-848b-8ca33fff9a50"
      },
      "source": [
        "# plot model\n",
        "tf.keras.utils.plot_model(\n",
        "    model,\n",
        "    to_file=\"model.png\",\n",
        "    show_shapes=False,\n",
        "    show_dtype=False,\n",
        "    show_layer_names=True,\n",
        "    rankdir=\"TB\",\n",
        "    expand_nested=False,\n",
        "    dpi=96,\n",
        ")"
      ],
      "execution_count": 37,
      "outputs": [
        {
          "output_type": "execute_result",
          "data": {
            "image/png": "[encoded data removed]",
            "text/plain": [
              "<IPython.core.display.Image object>"
            ]
          },
          "metadata": {
            "tags": []
          },
          "execution_count": 37
        }
      ]
    },
    {
      "cell_type": "code",
      "metadata": {
        "colab": {
          "base_uri": "https://localhost:8080/",
          "height": 466
        },
        "id": "99q-V00NwoPH",
        "outputId": "b17d0b82-099a-417c-d917-10d55d8eb40c"
      },
      "source": [
        "# plot model\n",
        "tf.keras.utils.plot_model(\n",
        "    model.build_graph([(15), (15)]),\n",
        "    to_file=\"model.png\",\n",
        "    show_shapes=False,\n",
        "    show_dtype=False,\n",
        "    show_layer_names=True,\n",
        "    rankdir=\"TB\",\n",
        "    expand_nested=False,\n",
        "    dpi=96,\n",
        ")"
      ],
      "execution_count": 45,
      "outputs": [
        {
          "output_type": "execute_result",
          "data": {
            "image/png": "[encoded data removed]",
            "text/plain": [
              "<IPython.core.display.Image object>"
            ]
          },
          "metadata": {
            "tags": []
          },
          "execution_count": 45
        }
      ]
    },
    {
      "cell_type": "markdown",
      "metadata": {
        "id": "wGhGqSKddZr4"
      },
      "source": [
        "## Train and test\n"
      ]
    },
    {
      "cell_type": "markdown",
      "metadata": {
        "id": "q0RaRvEodiP2"
      },
      "source": [
        "### compile"
      ]
    },
    {
      "cell_type": "code",
      "metadata": {
        "colab": {
          "base_uri": "https://localhost:8080/"
        },
        "id": "stVt5qfTdjro",
        "outputId": "6a28362f-8f97-4696-8d36-ef28f7eb0c04"
      },
      "source": [
        "model.summary()\n",
        "model.compile(loss='binary_crossentropy', optimizer='adam', metrics=['accuracy'])\n",
        "callbacks = [\n",
        "    tf.keras.callbacks.EarlyStopping(patience=5, min_delta=1e-2)\n",
        "]"
      ],
      "execution_count": 16,
      "outputs": [
        {
          "output_type": "stream",
          "text": [
            "Model: \"wide_deep_model_2\"\n",
            "_________________________________________________________________\n",
            "Layer (type)                 Output Shape              Param #   \n",
            "=================================================================\n",
            "dense_9 (Dense)              multiple                  480       \n",
            "_________________________________________________________________\n",
            "dense_10 (Dense)             multiple                  930       \n",
            "_________________________________________________________________\n",
            "dense_11 (Dense)             multiple                  46        \n",
            "=================================================================\n",
            "Total params: 1,456\n",
            "Trainable params: 1,456\n",
            "Non-trainable params: 0\n",
            "_________________________________________________________________\n"
          ],
          "name": "stdout"
        }
      ]
    },
    {
      "cell_type": "markdown",
      "metadata": {
        "id": "Le5dDYQken3h"
      },
      "source": [
        "### fit"
      ]
    },
    {
      "cell_type": "code",
      "metadata": {
        "colab": {
          "base_uri": "https://localhost:8080/"
        },
        "id": "Zz3u-V3ROOhA",
        "outputId": "b9211ddd-123e-4977-9c43-f4003608119b"
      },
      "source": [
        "x_train_scaled_wide = x_train_scaled[:, :15]\n",
        "x_train_scaled_deep = x_train_scaled[:, 15:]\n",
        "x_valid_scaled_wide = x_valid_scaled[:, :15]\n",
        "x_valid_scaled_deep = x_valid_scaled[:, 15:]\n",
        "x_test_scaled_wide = x_test_scaled[:, :15]\n",
        "x_test_scaled_deep = x_test_scaled[:, 15:]\n",
        "\n",
        "\n",
        "history = model.fit([x_train_scaled_wide, x_train_scaled_deep], y_train,\n",
        "                   validation_data=([x_valid_scaled_wide, x_valid_scaled_deep], y_valid),\n",
        "                   epochs=100,\n",
        "                   callbacks=callbacks)"
      ],
      "execution_count": 17,
      "outputs": [
        {
          "output_type": "stream",
          "text": [
            "Epoch 1/100\n",
            "10/10 [==============================] - 1s 43ms/step - loss: 0.8061 - accuracy: 0.3532 - val_loss: 0.6654 - val_accuracy: 0.6355\n",
            "Epoch 2/100\n",
            "10/10 [==============================] - 0s 6ms/step - loss: 0.6005 - accuracy: 0.6841 - val_loss: 0.5431 - val_accuracy: 0.8598\n",
            "Epoch 3/100\n",
            "10/10 [==============================] - 0s 5ms/step - loss: 0.4580 - accuracy: 0.8995 - val_loss: 0.4432 - val_accuracy: 0.9159\n",
            "Epoch 4/100\n",
            "10/10 [==============================] - 0s 5ms/step - loss: 0.3782 - accuracy: 0.9255 - val_loss: 0.3656 - val_accuracy: 0.9159\n",
            "Epoch 5/100\n",
            "10/10 [==============================] - 0s 5ms/step - loss: 0.2975 - accuracy: 0.9356 - val_loss: 0.2982 - val_accuracy: 0.9346\n",
            "Epoch 6/100\n",
            "10/10 [==============================] - 0s 5ms/step - loss: 0.2505 - accuracy: 0.9463 - val_loss: 0.2505 - val_accuracy: 0.9439\n",
            "Epoch 7/100\n",
            "10/10 [==============================] - 0s 6ms/step - loss: 0.2084 - accuracy: 0.9442 - val_loss: 0.2145 - val_accuracy: 0.9346\n",
            "Epoch 8/100\n",
            "10/10 [==============================] - 0s 5ms/step - loss: 0.1799 - accuracy: 0.9509 - val_loss: 0.1871 - val_accuracy: 0.9439\n",
            "Epoch 9/100\n",
            "10/10 [==============================] - 0s 6ms/step - loss: 0.1591 - accuracy: 0.9655 - val_loss: 0.1675 - val_accuracy: 0.9346\n",
            "Epoch 10/100\n",
            "10/10 [==============================] - 0s 5ms/step - loss: 0.1354 - accuracy: 0.9659 - val_loss: 0.1545 - val_accuracy: 0.9346\n",
            "Epoch 11/100\n",
            "10/10 [==============================] - 0s 6ms/step - loss: 0.1452 - accuracy: 0.9454 - val_loss: 0.1406 - val_accuracy: 0.9533\n",
            "Epoch 12/100\n",
            "10/10 [==============================] - 0s 7ms/step - loss: 0.1140 - accuracy: 0.9778 - val_loss: 0.1316 - val_accuracy: 0.9533\n",
            "Epoch 13/100\n",
            "10/10 [==============================] - 0s 5ms/step - loss: 0.1183 - accuracy: 0.9679 - val_loss: 0.1233 - val_accuracy: 0.9533\n",
            "Epoch 14/100\n",
            "10/10 [==============================] - 0s 5ms/step - loss: 0.0995 - accuracy: 0.9771 - val_loss: 0.1175 - val_accuracy: 0.9533\n",
            "Epoch 15/100\n",
            "10/10 [==============================] - 0s 6ms/step - loss: 0.1166 - accuracy: 0.9606 - val_loss: 0.1124 - val_accuracy: 0.9533\n",
            "Epoch 16/100\n",
            "10/10 [==============================] - 0s 6ms/step - loss: 0.0893 - accuracy: 0.9677 - val_loss: 0.1089 - val_accuracy: 0.9533\n",
            "Epoch 17/100\n",
            "10/10 [==============================] - 0s 5ms/step - loss: 0.0799 - accuracy: 0.9779 - val_loss: 0.1064 - val_accuracy: 0.9533\n",
            "Epoch 18/100\n",
            "10/10 [==============================] - 0s 6ms/step - loss: 0.1093 - accuracy: 0.9571 - val_loss: 0.1033 - val_accuracy: 0.9533\n",
            "Epoch 19/100\n",
            "10/10 [==============================] - 0s 6ms/step - loss: 0.0660 - accuracy: 0.9830 - val_loss: 0.0999 - val_accuracy: 0.9533\n",
            "Epoch 20/100\n",
            "10/10 [==============================] - 0s 6ms/step - loss: 0.0835 - accuracy: 0.9698 - val_loss: 0.0976 - val_accuracy: 0.9533\n",
            "Epoch 21/100\n",
            "10/10 [==============================] - 0s 5ms/step - loss: 0.0863 - accuracy: 0.9761 - val_loss: 0.0957 - val_accuracy: 0.9533\n",
            "Epoch 22/100\n",
            "10/10 [==============================] - 0s 5ms/step - loss: 0.0868 - accuracy: 0.9792 - val_loss: 0.0949 - val_accuracy: 0.9626\n",
            "Epoch 23/100\n",
            "10/10 [==============================] - 0s 7ms/step - loss: 0.0926 - accuracy: 0.9874 - val_loss: 0.0934 - val_accuracy: 0.9626\n",
            "Epoch 24/100\n",
            "10/10 [==============================] - 0s 6ms/step - loss: 0.0681 - accuracy: 0.9860 - val_loss: 0.0924 - val_accuracy: 0.9626\n"
          ],
          "name": "stdout"
        }
      ]
    },
    {
      "cell_type": "markdown",
      "metadata": {
        "id": "v1vB43GMetD6"
      },
      "source": [
        "### evaluate"
      ]
    },
    {
      "cell_type": "code",
      "metadata": {
        "colab": {
          "base_uri": "https://localhost:8080/",
          "height": 324
        },
        "id": "x1VoDOiGOOhB",
        "outputId": "3452b0e0-35cb-48fd-80a2-69d944b91410"
      },
      "source": [
        "def plot_learning_curves(history):\n",
        "    pd.DataFrame(history.history).plot(figsize=(8,5))\n",
        "    plt.grid(True)\n",
        "    plt.gca().set_ylim(0, 1)\n",
        "    plt.show()\n",
        "    \n",
        "plot_learning_curves(history)"
      ],
      "execution_count": 18,
      "outputs": [
        {
          "output_type": "display_data",
          "data": {
            "image/png": "[encoded data removed]",
            "text/plain": [
              "<Figure size 576x360 with 1 Axes>"
            ]
          },
          "metadata": {
            "tags": [],
            "needs_background": "light"
          }
        }
      ]
    },
    {
      "cell_type": "code",
      "metadata": {
        "colab": {
          "base_uri": "https://localhost:8080/"
        },
        "id": "XCewJbn8OOhB",
        "outputId": "6f211656-b9f2-49c3-91b4-806f9fd24a37"
      },
      "source": [
        "model.evaluate([x_test_scaled_wide, x_test_scaled_deep], y_test)"
      ],
      "execution_count": 19,
      "outputs": [
        {
          "output_type": "stream",
          "text": [
            "5/5 [==============================] - 0s 2ms/step - loss: 0.0916 - accuracy: 0.9720\n"
          ],
          "name": "stdout"
        },
        {
          "output_type": "execute_result",
          "data": {
            "text/plain": [
              "[0.09160234779119492, 0.9720279574394226]"
            ]
          },
          "metadata": {
            "tags": []
          },
          "execution_count": 19
        }
      ]
    },
    {
      "cell_type": "markdown",
      "metadata": {
        "id": "flJBfNrmev6h"
      },
      "source": [
        "# Model Creatition (multiple outputs)"
      ]
    },
    {
      "cell_type": "markdown",
      "metadata": {
        "id": "eJeBbn7fe-TX"
      },
      "source": [
        "## Function API Implementation"
      ]
    },
    {
      "cell_type": "code",
      "metadata": {
        "id": "X76J210we0Fo"
      },
      "source": [
        "# 多输入, 多输出\n",
        "tf.random.set_seed(2)\n",
        "\n",
        "input_wide = tf.keras.layers.Input(shape=[15], name='input_wide')\n",
        "input_deep = tf.keras.layers.Input(shape=[15], name='input_deep')\n",
        "hidden1 = tf.keras.layers.Dense(30, activation='relu')(input_deep)\n",
        "hidden2 = tf.keras.layers.Dense(30, activation='relu')(hidden1)\n",
        "concat = tf.keras.layers.concatenate([input_wide, hidden2])\n",
        "output1 = tf.keras.layers.Dense(1, activation='sigmoid', name='output_1')(concat)\n",
        "output2 = tf.keras.layers.Dense(1, activation='sigmoid', name='output_2')(concat)\n",
        "\n",
        "model = tf.keras.models.Model(inputs = [input_wide, input_deep],\n",
        "                         outputs = [output1, output2])\n",
        "\n"
      ],
      "execution_count": 20,
      "outputs": []
    },
    {
      "cell_type": "code",
      "metadata": {
        "colab": {
          "base_uri": "https://localhost:8080/"
        },
        "id": "iN7lkzXmfkCT",
        "outputId": "f1c015d1-0539-449e-9b7a-09a82d87d87e"
      },
      "source": [
        "model.summary()"
      ],
      "execution_count": 21,
      "outputs": [
        {
          "output_type": "stream",
          "text": [
            "Model: \"model_1\"\n",
            "__________________________________________________________________________________________________\n",
            "Layer (type)                    Output Shape         Param #     Connected to                     \n",
            "==================================================================================================\n",
            "input_deep (InputLayer)         [(None, 15)]         0                                            \n",
            "__________________________________________________________________________________________________\n",
            "dense_12 (Dense)                (None, 30)           480         input_deep[0][0]                 \n",
            "__________________________________________________________________________________________________\n",
            "input_wide (InputLayer)         [(None, 15)]         0                                            \n",
            "__________________________________________________________________________________________________\n",
            "dense_13 (Dense)                (None, 30)           930         dense_12[0][0]                   \n",
            "__________________________________________________________________________________________________\n",
            "concatenate_4 (Concatenate)     (None, 45)           0           input_wide[0][0]                 \n",
            "                                                                 dense_13[0][0]                   \n",
            "__________________________________________________________________________________________________\n",
            "output_1 (Dense)                (None, 1)            46          concatenate_4[0][0]              \n",
            "__________________________________________________________________________________________________\n",
            "output_2 (Dense)                (None, 1)            46          concatenate_4[0][0]              \n",
            "==================================================================================================\n",
            "Total params: 1,502\n",
            "Trainable params: 1,502\n",
            "Non-trainable params: 0\n",
            "__________________________________________________________________________________________________\n"
          ],
          "name": "stdout"
        }
      ]
    },
    {
      "cell_type": "code",
      "metadata": {
        "colab": {
          "base_uri": "https://localhost:8080/",
          "height": 466
        },
        "id": "HNFYwRU9fk73",
        "outputId": "e408b8f6-570b-462a-bf84-54e809994aa5"
      },
      "source": [
        "tf.keras.utils.plot_model(model, show_layer_names=True)"
      ],
      "execution_count": 22,
      "outputs": [
        {
          "output_type": "execute_result",
          "data": {
            "image/png": "[encoded data removed]",
            "text/plain": [
              "<IPython.core.display.Image object>"
            ]
          },
          "metadata": {
            "tags": []
          },
          "execution_count": 22
        }
      ]
    },
    {
      "cell_type": "code",
      "metadata": {
        "colab": {
          "base_uri": "https://localhost:8080/"
        },
        "id": "BqjaCPm2f321",
        "outputId": "92ecfb90-cd1d-4148-ec1f-85674ca2b76f"
      },
      "source": [
        "# test \n",
        "inputs = [np.array([list(range(15))]), np.array([list(range(15))])]\n",
        "\n",
        "model(inputs)"
      ],
      "execution_count": 23,
      "outputs": [
        {
          "output_type": "execute_result",
          "data": {
            "text/plain": [
              "[<tf.Tensor: shape=(1, 1), dtype=float32, numpy=array([[2.8273863e-07]], dtype=float32)>,\n",
              " <tf.Tensor: shape=(1, 1), dtype=float32, numpy=array([[0.01569781]], dtype=float32)>]"
            ]
          },
          "metadata": {
            "tags": []
          },
          "execution_count": 23
        }
      ]
    },
    {
      "cell_type": "markdown",
      "metadata": {
        "id": "KdoAg-5Hf_UD"
      },
      "source": [
        "## Model Subclassing Implementation"
      ]
    },
    {
      "cell_type": "code",
      "metadata": {
        "id": "v6CBe6EIf9mk"
      },
      "source": [
        "tf.random.set_seed(2)\n",
        "class WideDeepModel(tf.keras.models.Model):\n",
        "  def __init__(self, **kwargs):\n",
        "    super().__init__(**kwargs)\n",
        "    self.hidden1 = tf.keras.layers.Dense(30, activation='relu')\n",
        "    self.hidden2 = tf.keras.layers.Dense(30, activation='relu')\n",
        "    self.concat = tf.keras.layers.concatenate\n",
        "    self.dense1 = tf.keras.layers.Dense(1, activation='sigmoid', name='output_1')\n",
        "    self.dense2 = tf.keras.layers.Dense(1, activation='sigmoid', name='output_2')\n",
        "  \n",
        "  def call(self, inputs):\n",
        "    input_wide, input_deep = inputs\n",
        "    output_deep = self.hidden1(input_deep)\n",
        "    output_deep = self.hidden2(output_deep)\n",
        "    concat_input = self.concat([input_wide, output_deep])\n",
        "    output1 = self.dense1(concat_input)\n",
        "    output2 = self.dense2(concat_input)\n",
        "    return [output1, output2]\n",
        "  \n",
        "  def build_graph(self, shapes):\n",
        "    x_wide_shape, x_deep_shape = shapes\n",
        "    input_wide = tf.keras.layers.Input(shape=[15], name='input_wide')\n",
        "    input_deep = tf.keras.layers.Input(shape=[15], name='input_deep')\n",
        "    inputs = [input_wide, input_deep]\n",
        "    return tf.keras.models.Model(inputs=inputs, outputs=self.call(inputs))"
      ],
      "execution_count": 24,
      "outputs": []
    },
    {
      "cell_type": "code",
      "metadata": {
        "colab": {
          "base_uri": "https://localhost:8080/"
        },
        "id": "qMjwQiJ_y7BL",
        "outputId": "08fbadf7-27de-4748-f65b-97e8e25a582e"
      },
      "source": [
        "model.build_graph([(15,), (15,)]).summary()"
      ],
      "execution_count": 48,
      "outputs": [
        {
          "output_type": "stream",
          "text": [
            "Model: \"model_4\"\n",
            "__________________________________________________________________________________________________\n",
            "Layer (type)                    Output Shape         Param #     Connected to                     \n",
            "==================================================================================================\n",
            "input_5 (InputLayer)            [(None, 15)]         0                                            \n",
            "__________________________________________________________________________________________________\n",
            "dense_24 (Dense)                (None, 30)           480         input_5[0][0]                    \n",
            "__________________________________________________________________________________________________\n",
            "input_4 (InputLayer)            [(None, 15)]         0                                            \n",
            "__________________________________________________________________________________________________\n",
            "dense_25 (Dense)                (None, 30)           930         dense_24[1][0]                   \n",
            "__________________________________________________________________________________________________\n",
            "concatenate_12 (Concatenate)    (None, 45)           0           input_4[0][0]                    \n",
            "                                                                 dense_25[1][0]                   \n",
            "__________________________________________________________________________________________________\n",
            "dense_26 (Dense)                (None, 1)            46          concatenate_12[0][0]             \n",
            "==================================================================================================\n",
            "Total params: 1,456\n",
            "Trainable params: 1,456\n",
            "Non-trainable params: 0\n",
            "__________________________________________________________________________________________________\n"
          ],
          "name": "stdout"
        }
      ]
    },
    {
      "cell_type": "code",
      "metadata": {
        "colab": {
          "base_uri": "https://localhost:8080/",
          "height": 77
        },
        "id": "xiR6bvQ1gWxO",
        "outputId": "c65797b2-fb36-4de9-c8ee-209b4ac1286f"
      },
      "source": [
        "model = WideDeepModel()\n",
        "tf.keras.utils.plot_model(model)"
      ],
      "execution_count": 25,
      "outputs": [
        {
          "output_type": "execute_result",
          "data": {
            "image/png": "[encoded data removed]",
            "text/plain": [
              "<IPython.core.display.Image object>"
            ]
          },
          "metadata": {
            "tags": []
          },
          "execution_count": 25
        }
      ]
    },
    {
      "cell_type": "code",
      "metadata": {
        "id": "k1mShKOgpqfK",
        "colab": {
          "base_uri": "https://localhost:8080/",
          "height": 466
        },
        "outputId": "8f31f696-892c-47c2-e9f4-8b625f14aed5"
      },
      "source": [
        "tf.keras.utils.plot_model(model.build_graph([(15,), (15,)]))"
      ],
      "execution_count": 26,
      "outputs": [
        {
          "output_type": "execute_result",
          "data": {
            "image/png": "[encoded data removed]",
            "text/plain": [
              "<IPython.core.display.Image object>"
            ]
          },
          "metadata": {
            "tags": []
          },
          "execution_count": 26
        }
      ]
    },
    {
      "cell_type": "code",
      "metadata": {
        "colab": {
          "base_uri": "https://localhost:8080/"
        },
        "id": "YWge47S8gcFj",
        "outputId": "292761ba-f453-4939-b502-5bbfb81261db"
      },
      "source": [
        "# test \n",
        "inputs = [np.array([list(range(15))]).astype('float32'), np.array([list(range(15))]).astype('float32')]\n",
        "\n",
        "model(inputs)"
      ],
      "execution_count": 27,
      "outputs": [
        {
          "output_type": "execute_result",
          "data": {
            "text/plain": [
              "[<tf.Tensor: shape=(1, 1), dtype=float32, numpy=array([[2.8273863e-07]], dtype=float32)>,\n",
              " <tf.Tensor: shape=(1, 1), dtype=float32, numpy=array([[0.01569781]], dtype=float32)>]"
            ]
          },
          "metadata": {
            "tags": []
          },
          "execution_count": 27
        }
      ]
    },
    {
      "cell_type": "markdown",
      "metadata": {
        "id": "WD-j57LMgrsU"
      },
      "source": [
        "## Train and test"
      ]
    },
    {
      "cell_type": "markdown",
      "metadata": {
        "id": "Fk_E9qaigute"
      },
      "source": [
        "### compile"
      ]
    },
    {
      "cell_type": "markdown",
      "metadata": {
        "id": "W-6pwFYLiKr3"
      },
      "source": [
        "##### same loss"
      ]
    },
    {
      "cell_type": "code",
      "metadata": {
        "id": "johU3LuegnWI"
      },
      "source": [
        "model.compile(loss='binary_crossentropy', optimizer='adam', metrics=['accuracy'])\n",
        "callbacks = [\n",
        "    tf.keras.callbacks.EarlyStopping(patience=5, min_delta=1e-2)\n",
        "]"
      ],
      "execution_count": 28,
      "outputs": []
    },
    {
      "cell_type": "markdown",
      "metadata": {
        "id": "LwQR_a9IiRCq"
      },
      "source": [
        "##### different losses"
      ]
    },
    {
      "cell_type": "code",
      "metadata": {
        "id": "xSyHG8HniF6h"
      },
      "source": [
        "## specific loss and loss weights\n",
        "losses = {\n",
        "\t\"output_1\": \"binary_crossentropy\",\n",
        "\t\"output_2\": \"binary_crossentropy\",\n",
        "}\n",
        "loss_weights = {\"output_1\": 1.0, \"output_2\": 2}\n",
        "model.compile(loss=losses, loss_weights=loss_weights, metrics=['accuracy'])"
      ],
      "execution_count": 29,
      "outputs": []
    },
    {
      "cell_type": "markdown",
      "metadata": {
        "id": "1Cxd7aXehM-t"
      },
      "source": [
        "### train"
      ]
    },
    {
      "cell_type": "code",
      "metadata": {
        "colab": {
          "base_uri": "https://localhost:8080/"
        },
        "id": "-Luq-rVKhIJq",
        "outputId": "9aeba0aa-865a-49b3-a4b8-292bb47ba3c5"
      },
      "source": [
        "x_train_scaled_wide = x_train_scaled[:, :15]\n",
        "x_train_scaled_deep = x_train_scaled[:, 15:]\n",
        "x_valid_scaled_wide = x_valid_scaled[:, :15]\n",
        "x_valid_scaled_deep = x_valid_scaled[:, 15:]\n",
        "x_test_scaled_wide = x_test_scaled[:, :15]\n",
        "x_test_scaled_deep = x_test_scaled[:, 15:]\n",
        "\n",
        "\n",
        "history = model.fit([x_train_scaled_wide, x_train_scaled_deep], y_train,\n",
        "                   validation_data=([x_valid_scaled_wide, x_valid_scaled_deep], y_valid),\n",
        "                   epochs=100,\n",
        "                   callbacks=callbacks)"
      ],
      "execution_count": 30,
      "outputs": [
        {
          "output_type": "stream",
          "text": [
            "Epoch 1/100\n",
            "10/10 [==============================] - 1s 30ms/step - loss: 1.4511 - output_1_loss: 0.5182 - output_2_loss: 0.4664 - output_1_accuracy: 0.7730 - output_2_accuracy: 0.8381 - val_loss: 1.3160 - val_output_1_loss: 0.4553 - val_output_2_loss: 0.4303 - val_output_1_accuracy: 0.8224 - val_output_2_accuracy: 0.8505\n",
            "Epoch 2/100\n",
            "10/10 [==============================] - 0s 6ms/step - loss: 1.1482 - output_1_loss: 0.3904 - output_2_loss: 0.3789 - output_1_accuracy: 0.9142 - output_2_accuracy: 0.9002 - val_loss: 1.1389 - val_output_1_loss: 0.3967 - val_output_2_loss: 0.3711 - val_output_1_accuracy: 0.8692 - val_output_2_accuracy: 0.8598\n",
            "Epoch 3/100\n",
            "10/10 [==============================] - 0s 5ms/step - loss: 0.9179 - output_1_loss: 0.3238 - output_2_loss: 0.2971 - output_1_accuracy: 0.9411 - output_2_accuracy: 0.9297 - val_loss: 0.9916 - val_output_1_loss: 0.3456 - val_output_2_loss: 0.3230 - val_output_1_accuracy: 0.8785 - val_output_2_accuracy: 0.8879\n",
            "Epoch 4/100\n",
            "10/10 [==============================] - 0s 6ms/step - loss: 0.8555 - output_1_loss: 0.3034 - output_2_loss: 0.2760 - output_1_accuracy: 0.9243 - output_2_accuracy: 0.9137 - val_loss: 0.8616 - val_output_1_loss: 0.2993 - val_output_2_loss: 0.2811 - val_output_1_accuracy: 0.9159 - val_output_2_accuracy: 0.8879\n",
            "Epoch 5/100\n",
            "10/10 [==============================] - 0s 6ms/step - loss: 0.6876 - output_1_loss: 0.2558 - output_2_loss: 0.2159 - output_1_accuracy: 0.9557 - output_2_accuracy: 0.9543 - val_loss: 0.7647 - val_output_1_loss: 0.2616 - val_output_2_loss: 0.2516 - val_output_1_accuracy: 0.9252 - val_output_2_accuracy: 0.9252\n",
            "Epoch 6/100\n",
            "10/10 [==============================] - 0s 6ms/step - loss: 0.6224 - output_1_loss: 0.2185 - output_2_loss: 0.2020 - output_1_accuracy: 0.9526 - output_2_accuracy: 0.9386 - val_loss: 0.6720 - val_output_1_loss: 0.2264 - val_output_2_loss: 0.2228 - val_output_1_accuracy: 0.9252 - val_output_2_accuracy: 0.9159\n",
            "Epoch 7/100\n",
            "10/10 [==============================] - 0s 6ms/step - loss: 0.5332 - output_1_loss: 0.1918 - output_2_loss: 0.1707 - output_1_accuracy: 0.9612 - output_2_accuracy: 0.9578 - val_loss: 0.5993 - val_output_1_loss: 0.1993 - val_output_2_loss: 0.2000 - val_output_1_accuracy: 0.9252 - val_output_2_accuracy: 0.9252\n",
            "Epoch 8/100\n",
            "10/10 [==============================] - 0s 21ms/step - loss: 0.4549 - output_1_loss: 0.1612 - output_2_loss: 0.1469 - output_1_accuracy: 0.9771 - output_2_accuracy: 0.9531 - val_loss: 0.5387 - val_output_1_loss: 0.1763 - val_output_2_loss: 0.1812 - val_output_1_accuracy: 0.9439 - val_output_2_accuracy: 0.9252\n",
            "Epoch 9/100\n",
            "10/10 [==============================] - 0s 6ms/step - loss: 0.4039 - output_1_loss: 0.1408 - output_2_loss: 0.1316 - output_1_accuracy: 0.9734 - output_2_accuracy: 0.9711 - val_loss: 0.4830 - val_output_1_loss: 0.1579 - val_output_2_loss: 0.1625 - val_output_1_accuracy: 0.9439 - val_output_2_accuracy: 0.9439\n",
            "Epoch 10/100\n",
            "10/10 [==============================] - 0s 6ms/step - loss: 0.3285 - output_1_loss: 0.1124 - output_2_loss: 0.1081 - output_1_accuracy: 0.9871 - output_2_accuracy: 0.9772 - val_loss: 0.4365 - val_output_1_loss: 0.1434 - val_output_2_loss: 0.1465 - val_output_1_accuracy: 0.9439 - val_output_2_accuracy: 0.9439\n",
            "Epoch 11/100\n",
            "10/10 [==============================] - 0s 6ms/step - loss: 0.3553 - output_1_loss: 0.1218 - output_2_loss: 0.1168 - output_1_accuracy: 0.9833 - output_2_accuracy: 0.9752 - val_loss: 0.4085 - val_output_1_loss: 0.1343 - val_output_2_loss: 0.1371 - val_output_1_accuracy: 0.9533 - val_output_2_accuracy: 0.9533\n",
            "Epoch 12/100\n",
            "10/10 [==============================] - 0s 6ms/step - loss: 0.2627 - output_1_loss: 0.0884 - output_2_loss: 0.0871 - output_1_accuracy: 0.9877 - output_2_accuracy: 0.9839 - val_loss: 0.3851 - val_output_1_loss: 0.1268 - val_output_2_loss: 0.1291 - val_output_1_accuracy: 0.9533 - val_output_2_accuracy: 0.9533\n",
            "Epoch 13/100\n",
            "10/10 [==============================] - 0s 6ms/step - loss: 0.2762 - output_1_loss: 0.0953 - output_2_loss: 0.0904 - output_1_accuracy: 0.9773 - output_2_accuracy: 0.9822 - val_loss: 0.3705 - val_output_1_loss: 0.1217 - val_output_2_loss: 0.1244 - val_output_1_accuracy: 0.9533 - val_output_2_accuracy: 0.9533\n",
            "Epoch 14/100\n",
            "10/10 [==============================] - 0s 7ms/step - loss: 0.2431 - output_1_loss: 0.0856 - output_2_loss: 0.0788 - output_1_accuracy: 0.9854 - output_2_accuracy: 0.9858 - val_loss: 0.3594 - val_output_1_loss: 0.1179 - val_output_2_loss: 0.1207 - val_output_1_accuracy: 0.9533 - val_output_2_accuracy: 0.9533\n",
            "Epoch 15/100\n",
            "10/10 [==============================] - 0s 6ms/step - loss: 0.2890 - output_1_loss: 0.0946 - output_2_loss: 0.0972 - output_1_accuracy: 0.9792 - output_2_accuracy: 0.9727 - val_loss: 0.3545 - val_output_1_loss: 0.1157 - val_output_2_loss: 0.1194 - val_output_1_accuracy: 0.9626 - val_output_2_accuracy: 0.9533\n",
            "Epoch 16/100\n",
            "10/10 [==============================] - 0s 6ms/step - loss: 0.1957 - output_1_loss: 0.0658 - output_2_loss: 0.0650 - output_1_accuracy: 0.9873 - output_2_accuracy: 0.9869 - val_loss: 0.3505 - val_output_1_loss: 0.1139 - val_output_2_loss: 0.1183 - val_output_1_accuracy: 0.9626 - val_output_2_accuracy: 0.9626\n",
            "Epoch 17/100\n",
            "10/10 [==============================] - 0s 6ms/step - loss: 0.1759 - output_1_loss: 0.0599 - output_2_loss: 0.0580 - output_1_accuracy: 0.9919 - output_2_accuracy: 0.9913 - val_loss: 0.3449 - val_output_1_loss: 0.1119 - val_output_2_loss: 0.1165 - val_output_1_accuracy: 0.9626 - val_output_2_accuracy: 0.9626\n",
            "Epoch 18/100\n",
            "10/10 [==============================] - 0s 6ms/step - loss: 0.2447 - output_1_loss: 0.0813 - output_2_loss: 0.0817 - output_1_accuracy: 0.9846 - output_2_accuracy: 0.9815 - val_loss: 0.3429 - val_output_1_loss: 0.1109 - val_output_2_loss: 0.1160 - val_output_1_accuracy: 0.9626 - val_output_2_accuracy: 0.9626\n",
            "Epoch 19/100\n",
            "10/10 [==============================] - 0s 6ms/step - loss: 0.1418 - output_1_loss: 0.0482 - output_2_loss: 0.0468 - output_1_accuracy: 0.9962 - output_2_accuracy: 0.9941 - val_loss: 0.3437 - val_output_1_loss: 0.1108 - val_output_2_loss: 0.1164 - val_output_1_accuracy: 0.9626 - val_output_2_accuracy: 0.9626\n",
            "Epoch 20/100\n",
            "10/10 [==============================] - 0s 6ms/step - loss: 0.1499 - output_1_loss: 0.0505 - output_2_loss: 0.0497 - output_1_accuracy: 0.9894 - output_2_accuracy: 0.9907 - val_loss: 0.3443 - val_output_1_loss: 0.1106 - val_output_2_loss: 0.1168 - val_output_1_accuracy: 0.9626 - val_output_2_accuracy: 0.9533\n",
            "Epoch 21/100\n",
            "10/10 [==============================] - 0s 6ms/step - loss: 0.1581 - output_1_loss: 0.0532 - output_2_loss: 0.0524 - output_1_accuracy: 0.9878 - output_2_accuracy: 0.9905 - val_loss: 0.3451 - val_output_1_loss: 0.1108 - val_output_2_loss: 0.1172 - val_output_1_accuracy: 0.9626 - val_output_2_accuracy: 0.9533\n",
            "Epoch 22/100\n",
            "10/10 [==============================] - 0s 6ms/step - loss: 0.2062 - output_1_loss: 0.0692 - output_2_loss: 0.0685 - output_1_accuracy: 0.9847 - output_2_accuracy: 0.9905 - val_loss: 0.3447 - val_output_1_loss: 0.1104 - val_output_2_loss: 0.1172 - val_output_1_accuracy: 0.9533 - val_output_2_accuracy: 0.9533\n"
          ],
          "name": "stdout"
        }
      ]
    },
    {
      "cell_type": "markdown",
      "metadata": {
        "id": "CgRgW_fVhXtr"
      },
      "source": [
        "### evaluation"
      ]
    },
    {
      "cell_type": "code",
      "metadata": {
        "colab": {
          "base_uri": "https://localhost:8080/",
          "height": 324
        },
        "id": "-2dG_EVehhjD",
        "outputId": "0e4810d7-bbed-48aa-b3da-1740ef62f992"
      },
      "source": [
        "def plot_learning_curves(history):\n",
        "    pd.DataFrame(history.history).plot(figsize=(8,5))\n",
        "    plt.grid(True)\n",
        "    plt.gca().set_ylim(0, 1)\n",
        "    plt.show()\n",
        "    \n",
        "plot_learning_curves(history)"
      ],
      "execution_count": 49,
      "outputs": [
        {
          "output_type": "display_data",
          "data": {
            "image/png": "[encoded data removed]",
            "text/plain": [
              "<Figure size 576x360 with 1 Axes>"
            ]
          },
          "metadata": {
            "tags": [],
            "needs_background": "light"
          }
        }
      ]
    },
    {
      "cell_type": "code",
      "metadata": {
        "colab": {
          "base_uri": "https://localhost:8080/"
        },
        "id": "VUWfVlRchTCv",
        "outputId": "6d29a17c-5c18-4f8c-f38b-0137f00ec683"
      },
      "source": [
        "model.evaluate([x_test_scaled_wide, x_test_scaled_deep], y_test)"
      ],
      "execution_count": 32,
      "outputs": [
        {
          "output_type": "stream",
          "text": [
            "5/5 [==============================] - 0s 2ms/step - loss: 0.2223 - output_1_loss: 0.0675 - output_2_loss: 0.0774 - output_1_accuracy: 0.9790 - output_2_accuracy: 0.9720\n"
          ],
          "name": "stdout"
        },
        {
          "output_type": "execute_result",
          "data": {
            "text/plain": [
              "[0.22231410443782806,\n",
              " 0.06749054789543152,\n",
              " 0.07741177827119827,\n",
              " 0.9790209531784058,\n",
              " 0.9720279574394226]"
            ]
          },
          "metadata": {
            "tags": []
          },
          "execution_count": 32
        }
      ]
    },
    {
      "cell_type": "code",
      "metadata": {
        "id": "Y7doo4lOhkBQ"
      },
      "source": [
        ""
      ],
      "execution_count": 32,
      "outputs": []
    }
  ]
}